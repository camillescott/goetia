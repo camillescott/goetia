{
 "cells": [
  {
   "cell_type": "markdown",
   "id": "4ff734b5-8da2-491f-8af0-c30cd6bf3416",
   "metadata": {},
   "source": [
    "# Streaming Metrics\n",
    "\n",
    "This notebook demonstrates the usage of some of goetia's internal streaming/rolling metrics over sliding windows. These are used internally for saturation detection, and offer some generalized functionality for computing live statistics over streams."
   ]
  },
  {
   "cell_type": "code",
   "execution_count": 2,
   "id": "3d936d15-871b-4555-a60e-9cf1e61fa353",
   "metadata": {},
   "outputs": [],
   "source": [
    "from goetia.saturation import SlidingWindow, RollingPairwise, SlidingCutoff\n",
    "import numpy as np"
   ]
  },
  {
   "cell_type": "markdown",
   "id": "585dedaa-e276-44b8-bb1d-60db43d7fd50",
   "metadata": {},
   "source": [
    "## The `SlidingWindow` Class\n",
    "\n",
    "`SlidingWindow` is the core, base class for running functions on a fixed-length windows over streaming data. The user provides a `window_size` for the length of the window (the number of most-recent observations) and a function `func` to apply to this window. The `push` method adds an observed value, and once `window_size` values have been added, runs the provided function on the window.\n",
    "\n",
    "`func` should take an iterable. For example, we can create a `SlidingWindow` of length 5 apply `np.mean` to the window. The result of `push` is a tuple with the result of the function applied on the window and the time; in the simplest case here, time is just the index for the value. Note that, until the initial window is filled, `nan` is returned."
   ]
  },
  {
   "cell_type": "code",
   "execution_count": 3,
   "id": "eb162776-6a6e-4122-b68b-74ab625ace65",
   "metadata": {},
   "outputs": [],
   "source": [
    "W = SlidingWindow(5, np.mean)"
   ]
  },
  {
   "cell_type": "code",
   "execution_count": 4,
   "id": "9f776c5e-49ca-4206-bf78-9006e2573989",
   "metadata": {},
   "outputs": [
    {
     "name": "stdout",
     "output_type": "stream",
     "text": [
      "(nan, 0)\n",
      "(nan, 1)\n",
      "(nan, 2)\n",
      "(nan, 3)\n",
      "(2.0, 4)\n",
      "(3.0, 5)\n",
      "(4.0, 6)\n",
      "(5.0, 7)\n",
      "(6.0, 8)\n",
      "(7.0, 9)\n"
     ]
    }
   ],
   "source": [
    "for i in range(10):\n",
    "    print(W.push(i))"
   ]
  },
  {
   "cell_type": "markdown",
   "id": "c9bf9dfb-a82e-4131-93b0-cb7a807d8e3d",
   "metadata": {},
   "source": [
    "### Windows of Size 2\n",
    "\n",
    "Often times, we simply want to compare each value to the previous, ie, use a window of size 2. The `RollingPairwise` class is a convenience class that sets `SlidingWindow` with the correct parameters."
   ]
  },
  {
   "cell_type": "code",
   "execution_count": 12,
   "id": "2bf76089-aef8-4745-b569-78cb5161c169",
   "metadata": {},
   "outputs": [],
   "source": [
    "W = RollingPairwise(lambda tup: tup[1] - tup[0])"
   ]
  },
  {
   "cell_type": "code",
   "execution_count": 13,
   "id": "e4176eff-9ce4-45d8-b58f-21d568d15723",
   "metadata": {},
   "outputs": [
    {
     "name": "stdout",
     "output_type": "stream",
     "text": [
      "(nan, 0)\n",
      "(2, 1)\n",
      "(2, 2)\n",
      "(2, 3)\n",
      "(2, 4)\n",
      "(2, 5)\n",
      "(2, 6)\n",
      "(2, 7)\n",
      "(2, 8)\n",
      "(2, 9)\n"
     ]
    }
   ],
   "source": [
    "for v in range(0, 20, 2):\n",
    "    print(W.push(v))"
   ]
  },
  {
   "cell_type": "markdown",
   "id": "433bbdc1-246a-4b44-b5fb-77884083062e",
   "metadata": {},
   "source": [
    "### Window Functions Using Time\n",
    "\n",
    "We can also supply a window function that makes use of time; a time value can be provided by calling `push` with an `(observation, time)` tuple, or the default behavior of using the index can be used. We pass `uses_time` if our window function expects time values. For example, we can calculate our value per time:"
   ]
  },
  {
   "cell_type": "code",
   "execution_count": 17,
   "id": "2243cbb4-7835-4881-9871-5ef805967775",
   "metadata": {},
   "outputs": [],
   "source": [
    "def diff_per_time(vals):\n",
    "    # unpack the two observations and their times\n",
    "    ((xv, xt), (yv, yt)) = vals\n",
    "    elapsed = yt - xt\n",
    "    diff = yv - xv\n",
    "    return diff / elapsed\n",
    "\n",
    "W = RollingPairwise(diff_per_time, uses_time=True)"
   ]
  },
  {
   "cell_type": "code",
   "execution_count": 18,
   "id": "217dd5f8-3cf4-435e-a35f-387933acd524",
   "metadata": {},
   "outputs": [
    {
     "name": "stdout",
     "output_type": "stream",
     "text": [
      "(nan, 0)\n",
      "(2.5, 2)\n",
      "(0.6666666666666666, 5)\n",
      "(0.6, 10)\n"
     ]
    }
   ],
   "source": [
    "obs = [(10, 0), (15, 2), (17, 5), (20, 10)]\n",
    "for ob in obs:\n",
    "    print(W.push(ob))"
   ]
  },
  {
   "cell_type": "markdown",
   "id": "aa99a025-6eae-42c7-b481-679e24a73310",
   "metadata": {},
   "source": [
    "## The `SlidingCutoff` Class\n",
    "\n",
    "In some cases, we want "
   ]
  }
 ],
 "metadata": {
  "kernelspec": {
   "display_name": "Python 3",
   "language": "python",
   "name": "python3"
  },
  "language_info": {
   "codemirror_mode": {
    "name": "ipython",
    "version": 3
   },
   "file_extension": ".py",
   "mimetype": "text/x-python",
   "name": "python",
   "nbconvert_exporter": "python",
   "pygments_lexer": "ipython3",
   "version": "3.8.8"
  }
 },
 "nbformat": 4,
 "nbformat_minor": 5
}
