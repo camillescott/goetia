{
 "cells": [
  {
   "cell_type": "markdown",
   "metadata": {},
   "source": [
    "## The dBG: Hashing and Traversal\n",
    "\n",
    "This notebook demonstrates how to use goetia's $k$-mer hashing and low level de Bruijn graph (dBG) traversal functionality. "
   ]
  },
  {
   "cell_type": "code",
   "execution_count": 1,
   "metadata": {},
   "outputs": [
    {
     "name": "stdout",
     "output_type": "stream",
     "text": [
      "CPU times: user 8.8 s, sys: 455 ms, total: 9.25 s\n",
      "Wall time: 8.78 s\n"
     ]
    }
   ],
   "source": [
    "%%time\n",
    "# import goetia libraries\n",
    "from goetia import libgoetia\n",
    "from goetia.dbg import dBG, Graph\n",
    "from goetia.hashing import CanLemireShifter\n",
    "from goetia.storage import SparseppSetStorage"
   ]
  },
  {
   "cell_type": "markdown",
   "metadata": {},
   "source": [
    "### Building a dBG\n",
    "\n",
    "First. some explanation as to these classes. We have, from `goetia.dbg`:\n",
    "- `dBG`: This is the wrapped C++ dBG implementation. It is templated with a storage type and a hasher type; the storage type decides the underlying $k$-mer store, while the hashing type decides the hashing policy. Template class wrapped by `cppyy` are subscriptable, returning a complete class.\n",
    "- `Graph`: A thin wrapper function around `dBG`. Called with the storage and hashing types, it returns a funtion that takes $K$, a tuple of storage arguments, and a tuple of hashing arguments. When calling the `dBG` constructor directly, one must pass in an already-constructed storage and hasher. Note that the latter method has uses as well, as it allows multiple `dBG`'s to share the same underling storage.\n",
    "- `CanLemireShifter`: This is a hashing method. It wraps [Lemire's rolling hash implementation](https://github.com/lemire/rollinghashcpp) and returns canonical hashes. The return type is `Canonical<uint64_t>`, which has the attributes `fw_hash` and `rc_hash` for each strand (relative to the given sequence), along with the property `value` which returns the canonical hash.\n",
    "- `SparseppSetStorage`: A $k$-mer store for the `dBG` using the lightweight [sparsepp](https://github.com/greg7mdp/sparsepp) hash table. `sparsepp` is significantly faster than `std::map` or `std::set`. Given that it's a regular hash table, this is an exact storage backend.\n",
    "\n",
    "\n",
    "We construct a dBG as follows:"
   ]
  },
  {
   "cell_type": "code",
   "execution_count": 2,
   "metadata": {},
   "outputs": [],
   "source": [
    "K = 31\n",
    "hasher = CanLemireShifter(K)\n",
    "storage = SparseppSetStorage.build()\n",
    "graph = dBG[SparseppSetStorage, CanLemireShifter](storage, hasher)"
   ]
  },
  {
   "cell_type": "markdown",
   "metadata": {},
   "source": [
    "Note that we used the `.build()` method to get the storage. This is a C++ method that returns a `std::shared_ptr` owning the storage. The hasher is just going to get copied by the `dBG` in its constructor; it's only used as a prototype. The `dBG` uses the $K$ of the hasher.\n",
    "\n",
    "Because `graph` is a product of the `cppyy` wrapper, it has some special attributes. In particular, we can get its underlying C++ type:"
   ]
  },
  {
   "cell_type": "code",
   "execution_count": 3,
   "metadata": {},
   "outputs": [
    {
     "data": {
      "text/plain": [
       "<class goetia.goetia.dBG<goetia::storage::SparseppSetStorage,goetia::hashing::HashShifter<goetia::hashing::LemireShifterPolicy<goetia::hashing::Canonical<unsigned long>,goetia::DNA_SIMPLE> > > at 0x55d249d22110>"
      ]
     },
     "execution_count": 3,
     "metadata": {},
     "output_type": "execute_result"
    }
   ],
   "source": [
    "type(graph)"
   ]
  },
  {
   "cell_type": "markdown",
   "metadata": {},
   "source": [
    "That's rather ugly, which is why working with these things from Python is nice!\n",
    "\n",
    "So, we now have a dBG with $K=31$. What can we do with it?"
   ]
  },
  {
   "cell_type": "markdown",
   "metadata": {},
   "source": [
    "### Basics\n",
    "\n",
    "The most fundamental operations are probably adding new $k$-mers and asking about existing ones. For that, we have the `insert` and `query` methods."
   ]
  },
  {
   "cell_type": "code",
   "execution_count": 4,
   "metadata": {},
   "outputs": [
    {
     "data": {
      "text/plain": [
       "True"
      ]
     },
     "execution_count": 4,
     "metadata": {},
     "output_type": "execute_result"
    }
   ],
   "source": [
    "kmer = 'A' * K\n",
    "\n",
    "# returns True when the k-mer is new\n",
    "graph.insert(kmer)"
   ]
  },
  {
   "cell_type": "code",
   "execution_count": 5,
   "metadata": {},
   "outputs": [
    {
     "data": {
      "text/plain": [
       "False"
      ]
     },
     "execution_count": 5,
     "metadata": {},
     "output_type": "execute_result"
    }
   ],
   "source": [
    "# Canonical hashing means the reverse complement k-mer reports as seen\n",
    "graph.insert('T' * K)"
   ]
  },
  {
   "cell_type": "code",
   "execution_count": 6,
   "metadata": {},
   "outputs": [
    {
     "data": {
      "text/plain": [
       "1"
      ]
     },
     "execution_count": 6,
     "metadata": {},
     "output_type": "execute_result"
    }
   ],
   "source": [
    "# We query similarly\n",
    "graph.query(kmer)"
   ]
  },
  {
   "cell_type": "markdown",
   "metadata": {},
   "source": [
    "There is also a method called `insert_and_query`, which does as it sounds: first inserts, then returns the post-insertion count. `SparseppSetStorage` is a presence-only backend (a set), so the reulst here will always be `1`; for backends that can count, this is more useful."
   ]
  },
  {
   "cell_type": "code",
   "execution_count": 7,
   "metadata": {},
   "outputs": [
    {
     "data": {
      "text/plain": [
       "1"
      ]
     },
     "execution_count": 7,
     "metadata": {},
     "output_type": "execute_result"
    }
   ],
   "source": [
    "graph.insert_and_query('A' * (K-1) + 'T')"
   ]
  },
  {
   "cell_type": "markdown",
   "metadata": {},
   "source": [
    "We can interrogate the dBG for global information, such as the number of unique $k$-mers:"
   ]
  },
  {
   "cell_type": "code",
   "execution_count": 8,
   "metadata": {},
   "outputs": [
    {
     "data": {
      "text/plain": [
       "2"
      ]
     },
     "execution_count": 8,
     "metadata": {},
     "output_type": "execute_result"
    }
   ],
   "source": [
    "graph.n_unique()"
   ]
  },
  {
   "cell_type": "markdown",
   "metadata": {},
   "source": [
    "dBG's with probabilistic storage backends support a false positive reporting function. Ours, however, is exact, and does not:"
   ]
  },
  {
   "cell_type": "code",
   "execution_count": 9,
   "metadata": {},
   "outputs": [
    {
     "ename": "TypeError",
     "evalue": "Template method resolution failed:\n  Failed to instantiate \"estimated_fp()\"",
     "output_type": "error",
     "traceback": [
      "\u001b[0;31m---------------------------------------------------------------------------\u001b[0m",
      "\u001b[0;31mTypeError\u001b[0m                                 Traceback (most recent call last)",
      "\u001b[0;32m<ipython-input-9-853026859349>\u001b[0m in \u001b[0;36m<module>\u001b[0;34m\u001b[0m\n\u001b[0;32m----> 1\u001b[0;31m \u001b[0mgraph\u001b[0m\u001b[0;34m.\u001b[0m\u001b[0mestimated_fp\u001b[0m\u001b[0;34m(\u001b[0m\u001b[0;34m)\u001b[0m\u001b[0;34m\u001b[0m\u001b[0;34m\u001b[0m\u001b[0m\n\u001b[0m",
      "\u001b[0;31mTypeError\u001b[0m: Template method resolution failed:\n  Failed to instantiate \"estimated_fp()\""
     ]
    }
   ],
   "source": [
    "graph.estimated_fp()"
   ]
  },
  {
   "cell_type": "markdown",
   "metadata": {},
   "source": [
    "### Hashing Related"
   ]
  },
  {
   "cell_type": "markdown",
   "metadata": {},
   "source": [
    "`dBG`, eventually, derives from whichever hasher we gave it, and so supports its methods. This means we can, for example, hash an individual $k$-mer on it:"
   ]
  },
  {
   "cell_type": "code",
   "execution_count": 10,
   "metadata": {},
   "outputs": [
    {
     "data": {
      "text/plain": [
       "<Canonical fw=1376280362712374913 rc=16264769942947757911 sign=1>"
      ]
     },
     "execution_count": 10,
     "metadata": {},
     "output_type": "execute_result"
    }
   ],
   "source": [
    "graph.hash(kmer)"
   ]
  },
  {
   "cell_type": "markdown",
   "metadata": {},
   "source": [
    "Note that only the canonical hash is stored in the underlying storage backend. We can access it through the `value` property:"
   ]
  },
  {
   "cell_type": "code",
   "execution_count": 11,
   "metadata": {},
   "outputs": [
    {
     "data": {
      "text/plain": [
       "1376280362712374913"
      ]
     },
     "execution_count": 11,
     "metadata": {},
     "output_type": "execute_result"
    }
   ],
   "source": [
    "h = graph.hash(kmer)\n",
    "h.value"
   ]
  },
  {
   "cell_type": "markdown",
   "metadata": {},
   "source": [
    "The hasher (which is an instance of `HashShifter<...>`) has a variety of `typedef`s associated with it, which are also exposed on the dBG and related classes. For example:"
   ]
  },
  {
   "cell_type": "code",
   "execution_count": 12,
   "metadata": {},
   "outputs": [
    {
     "data": {
      "text/plain": [
       "<class goetia.goetia.hashing.Canonical<unsigned long> at 0x55d24e799d30>"
      ]
     },
     "execution_count": 12,
     "metadata": {},
     "output_type": "execute_result"
    }
   ],
   "source": [
    "# The basic hash type used \n",
    "graph.hash_type"
   ]
  },
  {
   "cell_type": "code",
   "execution_count": 13,
   "metadata": {},
   "outputs": [
    {
     "data": {
      "text/plain": [
       "<Kmer hash=<Canonical fw=1376280362712374913 rc=16264769942947757911 sign=1> kmer=AAAAAAAAAAAAAAAAAAAAAAAAAAAAAAA>"
      ]
     },
     "execution_count": 13,
     "metadata": {},
     "output_type": "execute_result"
    }
   ],
   "source": [
    "# Combines a k-mer string and its hash\n",
    "graph.kmer_type\n",
    "graph.kmer_type(graph.hash(kmer), kmer)"
   ]
  },
  {
   "cell_type": "code",
   "execution_count": 14,
   "metadata": {},
   "outputs": [
    {
     "data": {
      "text/plain": [
       "<class goetia.goetia.hashing.HashShifter<goetia::hashing::LemireShifterPolicy<goetia::hashing::Canonical<unsigned long>,goetia::DNA_SIMPLE> > at 0x55d2495a0e50>"
      ]
     },
     "execution_count": 14,
     "metadata": {},
     "output_type": "execute_result"
    }
   ],
   "source": [
    "# or the shifter and storage types\n",
    "graph.shifter_type"
   ]
  },
  {
   "cell_type": "markdown",
   "metadata": {},
   "source": [
    "Additionally, there's the alphabet. `CanLemireShifter` is just a typedef that omits a template parameter that decides the alphabet of the dBG. It's statically accessible on the `dBG` (and the `HashShifter`) through the alphabet attribute, and has several useful statically defined methods."
   ]
  },
  {
   "cell_type": "code",
   "execution_count": 15,
   "metadata": {},
   "outputs": [
    {
     "name": "stdout",
     "output_type": "stream",
     "text": [
      "<class goetia.goetia.DNA_SIMPLE at 0x55d24eb20710>, ACGT, TGCA\n"
     ]
    }
   ],
   "source": [
    "print(graph.alphabet, graph.alphabet.SYMBOLS, graph.alphabet.COMPLEMENTS, sep=', ')"
   ]
  },
  {
   "cell_type": "code",
   "execution_count": 16,
   "metadata": {},
   "outputs": [
    {
     "data": {
      "text/plain": [
       "'TTTTTTTTTTTTTTTTTTTTTTTTTTTTTTT'"
      ]
     },
     "execution_count": 16,
     "metadata": {},
     "output_type": "execute_result"
    }
   ],
   "source": [
    "graph.alphabet.reverse_complement(kmer)"
   ]
  },
  {
   "cell_type": "code",
   "execution_count": 17,
   "metadata": {},
   "outputs": [
    {
     "data": {
      "text/plain": [
       "'C'"
      ]
     },
     "execution_count": 17,
     "metadata": {},
     "output_type": "execute_result"
    }
   ],
   "source": [
    "graph.alphabet.complement('G')"
   ]
  },
  {
   "cell_type": "markdown",
   "metadata": {},
   "source": [
    "#### The HashShifter\n",
    "\n",
    "Though not *directly* related to performing dBG operations, it's useful to know a bit about how goetia structures its hashing, and by extension, its neighbor-finding and traversal, under the hood.\n",
    "\n",
    "The most basic hasher is the `HashShifter<T>`, where `T` is a `ShiftPolicy<HashType, Alphabet>`. `ShiftPolicy` wraps the underlying hash functions to conform to a standard interface; `HashType` decides what sort of hash values are returned (canonical, regular, different `value_type`s (maybe you want `uint32_t` for some reason?), etc.). `HashShifter<T>` **derives** from `T`: it's a policy-based design model where `T` provides an optimized implementation, and it avoids anything beinv `virtual`. The most important methods exposed by the `HashShifter` are `shift_right(char out, char in)` and `shift_left(char in, char out)`, which update the current hash value with new symbols. Clearly, this implies they are stateful.\n",
    "\n",
    "Because `dBG` is a `HashShifter`, we can use the existing graph to demostrate its methods."
   ]
  },
  {
   "cell_type": "code",
   "execution_count": 18,
   "metadata": {},
   "outputs": [
    {
     "data": {
      "text/plain": [
       "<Canonical fw=1376280362712374913 rc=16264769942947757911 sign=1>"
      ]
     },
     "execution_count": 18,
     "metadata": {},
     "output_type": "execute_result"
    }
   ],
   "source": [
    "# kmer is 'A' * K\n",
    "graph.hash_base(kmer)"
   ]
  },
  {
   "cell_type": "code",
   "execution_count": 19,
   "metadata": {},
   "outputs": [
    {
     "data": {
      "text/plain": [
       "<Canonical fw=18429189216377515994 rc=11251502874266433223 sign=0>"
      ]
     },
     "execution_count": 19,
     "metadata": {},
     "output_type": "execute_result"
    }
   ],
   "source": [
    "# get rid of an A on the left, add a T on the right\n",
    "graph.shift_right('A', 'T')"
   ]
  },
  {
   "cell_type": "code",
   "execution_count": 20,
   "metadata": {},
   "outputs": [
    {
     "data": {
      "text/plain": [
       "True"
      ]
     },
     "execution_count": 20,
     "metadata": {},
     "output_type": "execute_result"
    }
   ],
   "source": [
    "graph.hash('A' * (K - 1) + 'T') == graph.get_hash()"
   ]
  },
  {
   "cell_type": "markdown",
   "metadata": {},
   "source": [
    "Some notes: `get_hash(...)` gets the current hash of the shifter; `hash(...)` is non-volatile (does not affect the underlying state); and `hash_base(...)` primes the shifter with its initial value. Calling `shift_{left,right}` on an unititialized shifter will raise an exception. "
   ]
  },
  {
   "cell_type": "markdown",
   "metadata": {},
   "source": [
    "#### The HashExtender\n",
    "\n",
    "Next up the chain is the `HashExtender`. The `HashExtender` once again uses a policy to offer optimized implementions, in this case, for getting potential neighboring hash values in a dBG based on its alphabet: ie, extending. The `HashExtender` keeps more state in order to enable repeated extensions after shifting. It uses a [circular (or ring) buffer](https://en.wikipedia.org/wiki/Circular_buffer) to store the symbols of the current $k$-mer, which we call the cursor. In the end, the `HashExtender` is itself a `HashShifter`, though it overrides a few methods to stay consistent. It provides `set_cursor(str)` and `get_cursor(str)` for setting the state, and `hash_base` now makes a call to `set_cursor(str)` under the hood to make sure the buffer gets loaded.\n",
    "\n",
    "Most importantly, it provides extension methods. Note that `dBG` is also a `HashExtender`, so we can use the existing graph to demo:"
   ]
  },
  {
   "cell_type": "code",
   "execution_count": 21,
   "metadata": {},
   "outputs": [
    {
     "data": {
      "text/plain": [
       "<Canonical fw=15476993202998089975 rc=8312430231874395202 sign=0>"
      ]
     },
     "execution_count": 21,
     "metadata": {},
     "output_type": "execute_result"
    }
   ],
   "source": [
    "kmer = 'TCACACCTCTGTGTTGTGCTACTTGCGGCGC'\n",
    "graph.set_cursor(kmer)"
   ]
  },
  {
   "cell_type": "code",
   "execution_count": 22,
   "metadata": {},
   "outputs": [
    {
     "data": {
      "text/plain": [
       "'TCACACCTCTGTGTTGTGCTACTTGCGGCGC'"
      ]
     },
     "execution_count": 22,
     "metadata": {},
     "output_type": "execute_result"
    }
   ],
   "source": [
    "graph.get_cursor()"
   ]
  },
  {
   "cell_type": "markdown",
   "metadata": {},
   "source": [
    "Because we keep state, we can just call `shift_right(symbol)`, without providing the symbol to remove:"
   ]
  },
  {
   "cell_type": "code",
   "execution_count": 23,
   "metadata": {},
   "outputs": [
    {
     "data": {
      "text/plain": [
       "<Canonical fw=7170494598487408972 rc=16043475115312428656 sign=1>"
      ]
     },
     "execution_count": 23,
     "metadata": {},
     "output_type": "execute_result"
    }
   ],
   "source": [
    "graph.shift_right('A')"
   ]
  },
  {
   "cell_type": "code",
   "execution_count": 24,
   "metadata": {},
   "outputs": [
    {
     "data": {
      "text/plain": [
       "'CACACCTCTGTGTTGTGCTACTTGCGGCGCA'"
      ]
     },
     "execution_count": 24,
     "metadata": {},
     "output_type": "execute_result"
    }
   ],
   "source": [
    "graph.get_cursor()"
   ]
  },
  {
   "cell_type": "markdown",
   "metadata": {},
   "source": [
    "We can ask for the extensions of the current cursor. If we ask for the left extensions, we should see the earlier hash value amongst them."
   ]
  },
  {
   "cell_type": "code",
   "execution_count": 25,
   "metadata": {},
   "outputs": [
    {
     "data": {
      "text/plain": [
       "[<Shift hash=<Canonical fw=12345526596623405415 rc=11494181310317096217 sign=0> symbol=A direction=0>,\n",
       " <Shift hash=<Canonical fw=6756202371005322454 rc=1628793635298901189 sign=0> symbol=C direction=0>,\n",
       " <Shift hash=<Canonical fw=8758330460264747644 rc=5289963226481314134 sign=0> symbol=G direction=0>,\n",
       " <Shift hash=<Canonical fw=15476993202998089975 rc=8312430231874395202 sign=0> symbol=T direction=0>]"
      ]
     },
     "execution_count": 25,
     "metadata": {},
     "output_type": "execute_result"
    }
   ],
   "source": [
    "graph.left_extensions()"
   ]
  },
  {
   "cell_type": "code",
   "execution_count": 26,
   "metadata": {},
   "outputs": [
    {
     "data": {
      "text/plain": [
       "[<Shift hash=<Canonical fw=2234471427066309240 rc=4231802296200205098 sign=1> symbol=A direction=1>,\n",
       " <Shift hash=<Canonical fw=2679775005173563244 rc=10806639864229157281 sign=1> symbol=C direction=1>,\n",
       " <Shift hash=<Canonical fw=8846023511076178687 rc=12804271227938578187 sign=1> symbol=G direction=1>,\n",
       " <Shift hash=<Canonical fw=17571437905152908067 rc=5127116808213764794 sign=0> symbol=T direction=1>]"
      ]
     },
     "execution_count": 26,
     "metadata": {},
     "output_type": "execute_result"
    }
   ],
   "source": [
    "graph.right_extensions()"
   ]
  },
  {
   "cell_type": "code",
   "execution_count": 27,
   "metadata": {},
   "outputs": [
    {
     "data": {
      "text/plain": [
       "<Canonical fw=7170494598487408972 rc=16043475115312428656 sign=1>"
      ]
     },
     "execution_count": 27,
     "metadata": {},
     "output_type": "execute_result"
    }
   ],
   "source": [
    "graph.get_hash()"
   ]
  },
  {
   "cell_type": "markdown",
   "metadata": {},
   "source": [
    "Also take note that the underlying hash value is still the same as it was before we asked for extensions. The extension methods leave the shifter back in its originaly state.\n",
    "\n",
    "You might notice that this returned something called a `Shift`. The `Shift` is just a hash value with an attached symbol and direction. Just like the `Canonical`, it has a `value` property that retrieves the canonical hash value."
   ]
  },
  {
   "cell_type": "code",
   "execution_count": 28,
   "metadata": {},
   "outputs": [
    {
     "data": {
      "text/plain": [
       "(2234471427066309240, 'A')"
      ]
     },
     "execution_count": 28,
     "metadata": {},
     "output_type": "execute_result"
    }
   ],
   "source": [
    "shift = graph.right_extensions()[0]\n",
    "shift.value, shift.symbol"
   ]
  },
  {
   "cell_type": "markdown",
   "metadata": {},
   "source": [
    "#### The dBGWalker"
   ]
  },
  {
   "cell_type": "markdown",
   "metadata": {},
   "source": [
    "Just one last abstraction layer! The Final Form of the `HashShifter` is the `dBGWalker`. Once again, just as the `HashExtender` is a `HashShifter`, the `dBGWalker` is a `HashExtender`. The difference is that the `dBGWalker` can **not** be instantiated on its own: it can only be instantiated when by a `dBG` deriving from it! Obviously, if we wanna walk a dBG, we need a dBG to walk.\n",
    "\n",
    "The `dBGWalker` provides all the traversal-related methods to the `dBG`. For example, we can get the neighbors of the node ($k$-mer) pointed to by the current cursor.\n",
    "\n",
    "**NOTE**: Due to a temporary regression in `cppyy`, the return results of several methods that return `std::vector` cannot be transformed directly into lists, either implicitly or by calling `list(ret)`. So, I'm going to add a little utility function here for it. This should be fixed eventually."
   ]
  },
  {
   "cell_type": "code",
   "execution_count": 29,
   "metadata": {},
   "outputs": [],
   "source": [
    "def to_list(vec): return [v for v in vec]"
   ]
  },
  {
   "cell_type": "code",
   "execution_count": 30,
   "metadata": {},
   "outputs": [
    {
     "data": {
      "text/plain": [
       "([], [], 'TCACACCTCTGTGTTGTGCTACTTGCGGCGC')"
      ]
     },
     "execution_count": 30,
     "metadata": {},
     "output_type": "execute_result"
    }
   ],
   "source": [
    "graph.insert(graph.set_cursor(kmer))\n",
    "to_list(graph.in_neighbors()), to_list(graph.out_neighbors()), kmer"
   ]
  },
  {
   "cell_type": "markdown",
   "metadata": {},
   "source": [
    "Well that's sad. Let's give this guy some neighbors."
   ]
  },
  {
   "cell_type": "code",
   "execution_count": 31,
   "metadata": {},
   "outputs": [
    {
     "data": {
      "text/plain": [
       "True"
      ]
     },
     "execution_count": 31,
     "metadata": {},
     "output_type": "execute_result"
    }
   ],
   "source": [
    "# The attribute `hash` on `Shift` provides the hash object, which we can insert directly\n",
    "for node in graph.right_extensions()[0:2]:\n",
    "    graph.insert(node.hash)\n",
    "graph.insert(graph.left_extensions()[0].hash)"
   ]
  },
  {
   "cell_type": "markdown",
   "metadata": {},
   "source": [
    "Now our little node shouldn't be so lonely..."
   ]
  },
  {
   "cell_type": "code",
   "execution_count": 32,
   "metadata": {},
   "outputs": [
    {
     "data": {
      "text/plain": [
       "([(7847775928338814768, 'A')],\n",
       " [(7170494598487408972, 'A'), (6462841522242458712, 'C')])"
      ]
     },
     "execution_count": 32,
     "metadata": {},
     "output_type": "execute_result"
    }
   ],
   "source": [
    "[(node.value, node.symbol) for node in graph.in_neighbors()], [(node.value, node.symbol) for node in graph.out_neighbors()]"
   ]
  },
  {
   "cell_type": "markdown",
   "metadata": {},
   "source": [
    "Much better! =)"
   ]
  },
  {
   "cell_type": "markdown",
   "metadata": {},
   "source": [
    "The `dBGWalker` uses lower-level primitives for its neighbor-finding and traversal. One such primitive is `filter_nodes`, which takes the result of an extension call and returns only the nodes that are actually in the `dBG`."
   ]
  },
  {
   "cell_type": "code",
   "execution_count": 33,
   "metadata": {},
   "outputs": [
    {
     "data": {
      "text/plain": [
       "[(7847775928338814768, 'A')]"
      ]
     },
     "execution_count": 33,
     "metadata": {},
     "output_type": "execute_result"
    }
   ],
   "source": [
    "from cppyy.gbl import std\n",
    "[(node.value, node.symbol) for node in graph.filter_nodes(std.vector[graph.shift_left_type](graph.left_extensions()))]"
   ]
  },
  {
   "cell_type": "markdown",
   "metadata": {},
   "source": [
    "Most users will not need to use such low level interfaces. So now, after that long digression, back to our original programming."
   ]
  },
  {
   "cell_type": "markdown",
   "metadata": {},
   "source": [
    "### Walking the dBG\n",
    "\n",
    "Obviously, the more interesting case is actually traversing the dBG. The `dBGWalker` provides a rich interface for taking a stroll around the graph. To demo, let's first build up our graph..."
   ]
  },
  {
   "cell_type": "code",
   "execution_count": 34,
   "metadata": {},
   "outputs": [
    {
     "data": {
      "text/plain": [
       "<Canonical fw=7847775928338814768 rc=11167344157054741611 sign=1>"
      ]
     },
     "execution_count": 34,
     "metadata": {},
     "output_type": "execute_result"
    }
   ],
   "source": [
    "# first let's put our cursor on the far left of what we already inserted...\n",
    "graph.set_cursor(kmer)\n",
    "graph.shift_left('A')"
   ]
  },
  {
   "cell_type": "code",
   "execution_count": 35,
   "metadata": {},
   "outputs": [
    {
     "data": {
      "text/plain": [
       "([], [(8312430231874395202, 'C')])"
      ]
     },
     "execution_count": 35,
     "metadata": {},
     "output_type": "execute_result"
    }
   ],
   "source": [
    "# no left neighbors, one right neighbor\n",
    "[(node.value, node.symbol) for node in graph.in_neighbors()], [(node.value, node.symbol) for node in graph.out_neighbors()]"
   ]
  },
  {
   "cell_type": "code",
   "execution_count": 36,
   "metadata": {},
   "outputs": [
    {
     "name": "stdout",
     "output_type": "stream",
     "text": [
      "          AATCACACCTCTGTGTTGTGCTACTTGCGGC\n",
      "         GAATCACACCTCTGTGTTGTGCTACTTGCGG\n",
      "        GGAATCACACCTCTGTGTTGTGCTACTTGCG\n",
      "       AGGAATCACACCTCTGTGTTGTGCTACTTGC\n",
      "      GAGGAATCACACCTCTGTGTTGTGCTACTTG\n",
      "     GGAGGAATCACACCTCTGTGTTGTGCTACTT\n",
      "    AGGAGGAATCACACCTCTGTGTTGTGCTACT\n",
      "   TAGGAGGAATCACACCTCTGTGTTGTGCTAC\n",
      "  GTAGGAGGAATCACACCTCTGTGTTGTGCTA\n",
      " GGTAGGAGGAATCACACCTCTGTGTTGTGCT\n"
     ]
    }
   ],
   "source": [
    "seq = 'GGTAGGAGGA'\n",
    "for i, base in enumerate(seq[::-1]):\n",
    "    graph.insert(graph.shift_left(base))\n",
    "    print(((len(seq) - i ) * ' ') + graph.get_cursor())"
   ]
  },
  {
   "cell_type": "code",
   "execution_count": 37,
   "metadata": {},
   "outputs": [
    {
     "data": {
      "text/plain": [
       "('GGTAGGAGGAATCACACCTCTGTGTTGTGCT',\n",
       " <Canonical fw=10388554386607035669 rc=1182107035245116275 sign=0>)"
      ]
     },
     "execution_count": 37,
     "metadata": {},
     "output_type": "execute_result"
    }
   ],
   "source": [
    "anchor = graph.get_cursor()\n",
    "anchor, graph.get_hash()"
   ]
  },
  {
   "cell_type": "markdown",
   "metadata": {},
   "source": [
    "Okay, now that we've added some $k$-mers, let's walk around. We've set the current position, which is on the far left of the path we inserted, as an \"anchor,\" so that we can go back to it.\n",
    "\n",
    "#### Steppin'\n",
    "\n",
    "Now, for some jargon. A sequence of connected nodes can be called a path, a walk, or a traversal. We're just going to call it a walk. We'll call one transition from node-to-node a step. The API conforms to this terminology:"
   ]
  },
  {
   "cell_type": "code",
   "execution_count": 38,
   "metadata": {},
   "outputs": [],
   "source": [
    "end_state, options = graph.step_right()"
   ]
  },
  {
   "cell_type": "code",
   "execution_count": 39,
   "metadata": {},
   "outputs": [
    {
     "data": {
      "text/plain": [
       "(7,\n",
       " [<Shift hash=<Canonical fw=12736750171723927455 rc=8224377023565475682 sign=0> symbol=A direction=1>])"
      ]
     },
     "execution_count": 39,
     "metadata": {},
     "output_type": "execute_result"
    }
   ],
   "source": [
    "end_state, [n for n in options]"
   ]
  },
  {
   "cell_type": "markdown",
   "metadata": {},
   "source": [
    "`step_{left,right}` is somewhat self-explanatory: it steps right from the current position. The return values, however, require explanation. `end_state` is an enum of type `goetia::TraversalState::State`, which is defined as follows:\n",
    "\n",
    "    namespace TraversalState {\n",
    "        enum State {\n",
    "            STOP_FWD,        // 0\n",
    "            DECISION_FWD,    // 1\n",
    "            DECISION_BKW,    // 2\n",
    "            STOP_SEEN,       // 3\n",
    "            STOP_MASKED,     // 4\n",
    "            BAD_SEED,        // 5\n",
    "            GRAPH_ERROR,     // 6\n",
    "            STEP             // 7\n",
    "        };\n",
    "    }\n",
    "    \n",
    "The states describe how are traversal/walk/step ends. Unfortunately, the current C++ bindings don't convert these to strings, but it's On The List. For now, we can see that our end state was `7`, which corresponds to `STEP`. This quite simply means that we were able to take a step right, and did, because there was only one neighbor and one possible step. `options` is the list of where we could have gone -- but in order to `STEP`, this had to be exactly one! Had there been two or more, our end state would have `DECISION_FWD`. We'd have stayed where we started.\n",
    "\n",
    "Here is the complete state description:\n",
    " * `STOP_FWD`: there are no neighbors in this direction.\n",
    " * `DECISION_FWD`: there is more than one neighbor.\n",
    " * `STOP_SEEN`: there is a single neighbor but it has been seen.\n",
    " * `DECISION_BKW`: There is a single neighbor, but it is a decision in the other direction.\n",
    " * `STOP_MASKED`: There is a single neighbor, but it is masked.\n",
    " * `BAD_SEED`: The node you tried to start at does not exist.\n",
    " * `GRAPH_ERROR`: The graph is structural unsound (basically a panic).\n",
    " * `STEP`: None of the above: we can move\n",
    "\n",
    "Note that there are other states where we can have exactly one neighbor but not move: it could have been seen already, or it could have been a backwards decision node. A backwards d-node (`DECISION_BKW`) means that, were we to step right, our in-degree would be two or greater (and correspondingly for `step_left`).\n",
    "\n",
    "\n",
    "If we check now, we'll see that we've moved, and we've got one in- and one out-neighbor."
   ]
  },
  {
   "cell_type": "code",
   "execution_count": 40,
   "metadata": {},
   "outputs": [
    {
     "data": {
      "text/plain": [
       "([(1182107035245116275, 'G')], [(7801055356572192737, 'C')])"
      ]
     },
     "execution_count": 40,
     "metadata": {},
     "output_type": "execute_result"
    }
   ],
   "source": [
    "[(node.value, node.symbol) for node in graph.in_neighbors()], [(node.value, node.symbol) for node in graph.out_neighbors()]"
   ]
  },
  {
   "cell_type": "markdown",
   "metadata": {},
   "source": [
    "If we reset back to the anchor and try again, we'll get a `STOP_SEEN`:"
   ]
  },
  {
   "cell_type": "code",
   "execution_count": 41,
   "metadata": {},
   "outputs": [
    {
     "data": {
      "text/plain": [
       "(3,\n",
       " [<Shift hash=<Canonical fw=12736750171723927455 rc=8224377023565475682 sign=0> symbol=A direction=1>],\n",
       " <Canonical fw=10388554386607035669 rc=1182107035245116275 sign=0>)"
      ]
     },
     "execution_count": 41,
     "metadata": {},
     "output_type": "execute_result"
    }
   ],
   "source": [
    "graph.set_cursor(anchor)\n",
    "end_state, options = graph.step_right()\n",
    "end_state, to_list(options), graph.get_hash()"
   ]
  },
  {
   "cell_type": "markdown",
   "metadata": {},
   "source": [
    "The `dBGWalker` maintains a set of already-seen nodes to prevent getting stuck in cycles, so we remain at anchor."
   ]
  },
  {
   "cell_type": "code",
   "execution_count": 42,
   "metadata": {},
   "outputs": [
    {
     "data": {
      "text/plain": [
       "[8224377023565475682]"
      ]
     },
     "execution_count": 42,
     "metadata": {},
     "output_type": "execute_result"
    }
   ],
   "source": [
    "list(graph.seen)"
   ]
  },
  {
   "cell_type": "markdown",
   "metadata": {},
   "source": [
    "Not to worry though, we can clear it:"
   ]
  },
  {
   "cell_type": "code",
   "execution_count": 43,
   "metadata": {},
   "outputs": [
    {
     "data": {
      "text/plain": [
       "(7,\n",
       " [<Shift hash=<Canonical fw=12736750171723927455 rc=8224377023565475682 sign=0> symbol=A direction=1>],\n",
       " <Canonical fw=12736750171723927455 rc=8224377023565475682 sign=0>)"
      ]
     },
     "execution_count": 43,
     "metadata": {},
     "output_type": "execute_result"
    }
   ],
   "source": [
    "graph.clear_seen()\n",
    "end_state, options = graph.step_right()\n",
    "end_state, to_list(options), graph.get_hash()"
   ]
  },
  {
   "cell_type": "markdown",
   "metadata": {},
   "source": [
    "#### Walkin'\n",
    "\n",
    "Moving anywhere would be pretty hard if we had to manually think about stepping every time we did it, and the same with walking a dBG! For that, we have the `walk{left,right}` methods. These call `step_*` repeatedly until they reach a seen $k$-mer or create a partial unitig. We can either walk from our current position or given a seed to start at -- for now we'll just start at our current position."
   ]
  },
  {
   "cell_type": "code",
   "execution_count": 44,
   "metadata": {},
   "outputs": [],
   "source": [
    "graph.set_cursor(anchor)\n",
    "walk = graph.walk_right()"
   ]
  },
  {
   "cell_type": "markdown",
   "metadata": {},
   "source": [
    "`walk*` returns a special `Walk` object. It has the following attributes:\n",
    "* `start`: A `kmer_type` for the position we started at.\n",
    "* `path`: A list of shifts holding the extensions for the path.\n",
    "* `end_state`: The traversal state we ended on.\n",
    "* `head()`: The hash value of start.\n",
    "* `tail()`: The has value of the last extension (where we ended).\n",
    "* `to_string()`: The string representation of the walk, resulting from combining the start $k$-mer with the extensions (specialized for direction).\n",
    "* `glue(Walk)`: The string resulting from glueing two walks together, specialized on directions.\n",
    "* `retreat_symbol()`: The symbol necessary to shift back left (or right) after moving to one of the end-state neighbors.\n",
    "\n",
    "In this case, we stopped on a forward decision node."
   ]
  },
  {
   "cell_type": "code",
   "execution_count": 45,
   "metadata": {},
   "outputs": [
    {
     "data": {
      "text/plain": [
       "(<Kmer hash=<Canonical fw=10388554386607035669 rc=1182107035245116275 sign=0> kmer=GGTAGGAGGAATCACACCTCTGTGTTGTGCT>,\n",
       " 1)"
      ]
     },
     "execution_count": 45,
     "metadata": {},
     "output_type": "execute_result"
    }
   ],
   "source": [
    "walk.start, walk.end_state"
   ]
  },
  {
   "cell_type": "code",
   "execution_count": 46,
   "metadata": {},
   "outputs": [
    {
     "data": {
      "text/plain": [
       "(True, <Canonical fw=15476993202998089975 rc=8312430231874395202 sign=0>)"
      ]
     },
     "execution_count": 46,
     "metadata": {},
     "output_type": "execute_result"
    }
   ],
   "source": [
    "graph.get_hash() == walk.tail(), walk.tail()"
   ]
  },
  {
   "cell_type": "code",
   "execution_count": 47,
   "metadata": {},
   "outputs": [
    {
     "data": {
      "text/plain": [
       "[<Shift hash=<Canonical fw=12736750171723927455 rc=8224377023565475682 sign=0> symbol=A direction=1>,\n",
       " <Shift hash=<Canonical fw=14637547382867799967 rc=7801055356572192737 sign=0> symbol=C direction=1>,\n",
       " <Shift hash=<Canonical fw=13010390999111524039 rc=3221253690059650609 sign=0> symbol=T direction=1>,\n",
       " <Shift hash=<Canonical fw=12749353867514261335 rc=18060366745909523060 sign=1> symbol=T direction=1>,\n",
       " <Shift hash=<Canonical fw=10703243689465863068 rc=885851925541808064 sign=0> symbol=G direction=1>,\n",
       " <Shift hash=<Canonical fw=9490228497282697113 rc=6014014112993225648 sign=0> symbol=C direction=1>,\n",
       " <Shift hash=<Canonical fw=6306066054953700407 rc=12958152393930660101 sign=1> symbol=G direction=1>,\n",
       " <Shift hash=<Canonical fw=6508651095222951261 rc=12173448819754021496 sign=1> symbol=G direction=1>,\n",
       " <Shift hash=<Canonical fw=2162203961694194202 rc=84412478834819436 sign=0> symbol=C direction=1>,\n",
       " <Shift hash=<Canonical fw=7847775928338814768 rc=11167344157054741611 sign=1> symbol=G direction=1>,\n",
       " <Shift hash=<Canonical fw=15476993202998089975 rc=8312430231874395202 sign=0> symbol=C direction=1>]"
      ]
     },
     "execution_count": 47,
     "metadata": {},
     "output_type": "execute_result"
    }
   ],
   "source": [
    "to_list(walk.path)"
   ]
  },
  {
   "cell_type": "code",
   "execution_count": 48,
   "metadata": {},
   "outputs": [
    {
     "data": {
      "text/plain": [
       "'GGTAGGAGGAATCACACCTCTGTGTTGTGCTACTTGCGGCGC'"
      ]
     },
     "execution_count": 48,
     "metadata": {},
     "output_type": "execute_result"
    }
   ],
   "source": [
    "walk.to_string()"
   ]
  },
  {
   "cell_type": "markdown",
   "metadata": {},
   "source": [
    "You'll notice that `walk.tail()` and `graph.get_has()` correspond to `kmer` from way up before. We made `kmer` a decision node when we gave it two friends to its right:"
   ]
  },
  {
   "cell_type": "code",
   "execution_count": 49,
   "metadata": {},
   "outputs": [
    {
     "data": {
      "text/plain": [
       "[<Shift hash=<Canonical fw=7170494598487408972 rc=16043475115312428656 sign=1> symbol=A direction=1>,\n",
       " <Shift hash=<Canonical fw=6462841522242458712 rc=8207629909326200059 sign=1> symbol=C direction=1>]"
      ]
     },
     "execution_count": 49,
     "metadata": {},
     "output_type": "execute_result"
    }
   ],
   "source": [
    "[n for n in graph.out_neighbors()]"
   ]
  },
  {
   "cell_type": "markdown",
   "metadata": {},
   "source": [
    "You might also recall that `anchor` had no in-neighbors. That means congratulations are in order -- we've just assembled a unitig!\n",
    "\n",
    "#### Traversin'\n",
    "\n",
    "So now that we've walked a unitig, it's time to traverse to the rest of its neighbors. The `Walk` object has `retreat_symbol` that will help usmove to each neighbor and then back to the decision node."
   ]
  },
  {
   "cell_type": "code",
   "execution_count": 50,
   "metadata": {},
   "outputs": [
    {
     "name": "stdout",
     "output_type": "stream",
     "text": [
      "start: <Kmer hash=<Canonical fw=7170494598487408972 rc=16043475115312428656 sign=1> kmer=CACACCTCTGTGTTGTGCTACTTGCGGCGCA>\n",
      "end state: 0\n",
      "current hash: <Canonical fw=7170494598487408972 rc=16043475115312428656 sign=1>\n",
      "walk string: CACACCTCTGTGTTGTGCTACTTGCGGCGCA\n",
      "start: <Kmer hash=<Canonical fw=6462841522242458712 rc=8207629909326200059 sign=1> kmer=CACACCTCTGTGTTGTGCTACTTGCGGCGCC>\n",
      "end state: 0\n",
      "current hash: <Canonical fw=6462841522242458712 rc=8207629909326200059 sign=1>\n",
      "walk string: CACACCTCTGTGTTGTGCTACTTGCGGCGCC\n"
     ]
    }
   ],
   "source": [
    "prev = walk\n",
    "for n in graph.out_neighbors():\n",
    "    graph.shift_right(n.symbol)\n",
    "    walk = graph.walk_right()\n",
    "    print('start:', walk.start)\n",
    "    print('end state:', walk.end_state)\n",
    "    print('current hash:', graph.get_hash())\n",
    "    print('walk string:', walk.to_string())\n",
    "    # return to the decision_node\n",
    "    graph.set_cursor(walk.start.kmer)\n",
    "    graph.shift_left(prev.retreat_symbol())"
   ]
  },
  {
   "cell_type": "markdown",
   "metadata": {},
   "source": [
    "So, our two start positions were the two right neighbors, and each time our end state was `STOP_FWD` -- ie, a dead end. We then returned to the previous root by setting the cursor to the start of the walk and shifting left with the previous walk's retreat symbol.\n",
    "\n",
    "Both of these \"walks\" were single $k$-mers, but enh, they're still walks!"
   ]
  },
  {
   "cell_type": "markdown",
   "metadata": {},
   "source": [
    "#### Bidrectional Walkin'\n",
    "\n",
    "Other than `walk_left` and `walk_right`, there's also plain old `walk`. This walks in both directions and returns the two walks as a tuple. We can demonstrate this by starting in the middle of unitig we assembled earlier."
   ]
  },
  {
   "cell_type": "code",
   "execution_count": 51,
   "metadata": {},
   "outputs": [
    {
     "data": {
      "text/plain": [
       "('GGTAGGAGGAATCACACCTCTGTGTTGTGCTACTTGCGGCGC', 42)"
      ]
     },
     "execution_count": 51,
     "metadata": {},
     "output_type": "execute_result"
    }
   ],
   "source": [
    "prev.to_string(), len(prev.to_string())"
   ]
  },
  {
   "cell_type": "code",
   "execution_count": 52,
   "metadata": {},
   "outputs": [],
   "source": [
    "seed = prev.to_string()[5:5+K]\n",
    "lwalk, rwalk = graph.walk(seed)"
   ]
  },
  {
   "cell_type": "code",
   "execution_count": 53,
   "metadata": {},
   "outputs": [
    {
     "name": "stdout",
     "output_type": "stream",
     "text": [
      "<Kmer hash=<Canonical fw=10703243689465863068 rc=885851925541808064 sign=0> kmer=GAGGAATCACACCTCTGTGTTGTGCTACTTG> 0\n",
      "GGTAGGAGGAATCACACCTCTGTGTTGTGCTACTTG\n",
      "<Kmer hash=<Canonical fw=10703243689465863068 rc=885851925541808064 sign=0> kmer=GAGGAATCACACCTCTGTGTTGTGCTACTTG> 1\n",
      "GAGGAATCACACCTCTGTGTTGTGCTACTTGCGGCGC\n"
     ]
    }
   ],
   "source": [
    "print(lwalk.start, lwalk.end_state)\n",
    "print(lwalk.to_string())\n",
    "print(rwalk.start, rwalk.end_state)\n",
    "print(rwalk.to_string())"
   ]
  },
  {
   "cell_type": "markdown",
   "metadata": {},
   "source": [
    "All fits together: `lwalk` has an end state of `STOP_FWD`, as it hit a dead-end in its direction of movement, and `rwalk` has an end state of `DECISION_FWD`, as it hit the decision node in its direction of movement. Each has the same start $k$-mer, and each has a `to_string()` result with that overlapping $k$-mer. If we want to combine them, we can use the `glue` method, which should give us back our original unitig."
   ]
  },
  {
   "cell_type": "code",
   "execution_count": 54,
   "metadata": {},
   "outputs": [],
   "source": [
    "assert lwalk.glue(rwalk) == prev.to_string()"
   ]
  },
  {
   "cell_type": "markdown",
   "metadata": {},
   "source": [
    "Note that, because `lwalk` and `rwalk` here are actually different types based on a template parameter for their direciton, their `glue` methods are specialized, and we can glue in the other order and still get the correct result:"
   ]
  },
  {
   "cell_type": "code",
   "execution_count": 55,
   "metadata": {},
   "outputs": [],
   "source": [
    "assert rwalk.glue(lwalk) == prev.to_string()"
   ]
  }
 ],
 "metadata": {
  "kernelspec": {
   "display_name": "Python 3 (ipykernel)",
   "language": "python",
   "name": "python3"
  },
  "language_info": {
   "codemirror_mode": {
    "name": "ipython",
    "version": 3
   },
   "file_extension": ".py",
   "mimetype": "text/x-python",
   "name": "python",
   "nbconvert_exporter": "python",
   "pygments_lexer": "ipython3",
   "version": "3.8.12"
  }
 },
 "nbformat": 4,
 "nbformat_minor": 4
}
